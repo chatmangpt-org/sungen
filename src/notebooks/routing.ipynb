{
 "cells": [
  {
   "cell_type": "code",
   "id": "initial_id",
   "metadata": {
    "collapsed": true,
    "ExecuteTime": {
     "end_time": "2024-10-14T01:45:37.040511Z",
     "start_time": "2024-10-14T01:45:23.536643Z"
    }
   },
   "source": [
    "import uvicorn\n",
    "from fastapi import FastAPI, APIRouter, HTTPException, Body\n",
    "from typing import Type, Dict, Any, Callable\n",
    "import inspect\n",
    "from functools import wraps\n",
    "from dslmodel import DSLModel, init_lm\n",
    "from pydantic import Field\n",
    "import nest_asyncio\n",
    "import asyncio\n",
    "from pyngrok import ngrok\n"
   ],
   "outputs": [],
   "execution_count": 1
  },
  {
   "metadata": {
    "ExecuteTime": {
     "end_time": "2024-10-14T01:45:37.042912Z",
     "start_time": "2024-10-14T01:45:37.041435Z"
    }
   },
   "cell_type": "code",
   "source": "nest_asyncio.apply()\n",
   "id": "9296071f8f9f2edb",
   "outputs": [],
   "execution_count": 2
  },
  {
   "metadata": {
    "ExecuteTime": {
     "end_time": "2024-10-14T01:48:22.513491Z",
     "start_time": "2024-10-14T01:48:22.510458Z"
    }
   },
   "cell_type": "code",
   "source": [
    "def auto_router(model_class: Type[DSLModel]):\n",
    "    router = APIRouter()\n",
    "    model_name = model_class.__name__.lower()\n",
    "    model_instance = model_class()\n",
    "\n",
    "    @router.post(f\"/{model_name}/\")\n",
    "    async def create_model_instance(data: Dict[str, Any]):\n",
    "        init_lm()\n",
    "        try:\n",
    "            instance = model_class.from_prompt(**data)\n",
    "            return instance.model_dump()\n",
    "        except Exception as e:\n",
    "            raise HTTPException(status_code=400, detail=str(e))\n",
    "\n",
    "    return router\n"
   ],
   "id": "54371b8c57e8894",
   "outputs": [],
   "execution_count": 6
  },
  {
   "metadata": {
    "ExecuteTime": {
     "end_time": "2024-10-14T01:48:22.633533Z",
     "start_time": "2024-10-14T01:48:22.630810Z"
    }
   },
   "cell_type": "code",
   "source": [
    "def create_endpoint(instance: DSLModel, method_name: str, method: Callable):\n",
    "    sig = inspect.signature(method)\n",
    "\n",
    "    @wraps(method)\n",
    "    async def endpoint(data: Dict[str, Any] = Body(...)):\n",
    "        init_lm()\n",
    "        try:\n",
    "            bound_args = sig.bind_partial(**data)\n",
    "            bound_args.apply_defaults()\n",
    "            result = method(instance, **bound_args.arguments)\n",
    "            if asyncio.iscoroutine(result):\n",
    "                result = await result\n",
    "            if isinstance(result, DSLModel):\n",
    "                return result.model_dump()\n",
    "            return result\n",
    "        except Exception as e:\n",
    "            raise HTTPException(status_code=400, detail=str(e))\n",
    "\n",
    "    return endpoint\n"
   ],
   "id": "c7454ca25feb3071",
   "outputs": [],
   "execution_count": 7
  },
  {
   "metadata": {
    "ExecuteTime": {
     "end_time": "2024-10-14T01:48:23.363924Z",
     "start_time": "2024-10-14T01:48:23.339784Z"
    }
   },
   "cell_type": "code",
   "source": [
    "@auto_router\n",
    "class Participant(DSLModel):\n",
    "    name: str = Field(..., description=\"Name of the participant.\")\n",
    "    role: str = Field(..., description=\"Role of the participant.\")\n",
    "\n",
    "    def greet(self) -> str:\n",
    "        \"\"\"Greet the participant.\"\"\"\n",
    "        return f\"Hello, {self.name}! Your role is {self.role}.\"\n",
    "\n",
    "    def update_role(self, new_role: str) -> Dict[str, Any]:\n",
    "        \"\"\"Update the participant's role.\"\"\"\n",
    "        self.role = new_role\n",
    "        return {\"message\": f\"Role updated to {self.role}\"}\n"
   ],
   "id": "1ec9900708ba2c11",
   "outputs": [
    {
     "ename": "ValidationError",
     "evalue": "2 validation errors for Participant\nname\n  Field required [type=missing, input_value={}, input_type=dict]\n    For further information visit https://errors.pydantic.dev/2.9/v/missing\nrole\n  Field required [type=missing, input_value={}, input_type=dict]\n    For further information visit https://errors.pydantic.dev/2.9/v/missing",
     "output_type": "error",
     "traceback": [
      "\u001B[0;31m---------------------------------------------------------------------------\u001B[0m",
      "\u001B[0;31mValidationError\u001B[0m                           Traceback (most recent call last)",
      "Cell \u001B[0;32mIn[8], line 1\u001B[0m\n\u001B[0;32m----> 1\u001B[0m \u001B[38;5;129;43m@auto_router\u001B[39;49m\n\u001B[1;32m      2\u001B[0m \u001B[38;5;28;43;01mclass\u001B[39;49;00m\u001B[43m \u001B[49m\u001B[38;5;21;43;01mParticipant\u001B[39;49;00m\u001B[43m(\u001B[49m\u001B[43mDSLModel\u001B[49m\u001B[43m)\u001B[49m\u001B[43m:\u001B[49m\n\u001B[1;32m      3\u001B[0m \u001B[43m    \u001B[49m\u001B[43mname\u001B[49m\u001B[43m:\u001B[49m\u001B[43m \u001B[49m\u001B[38;5;28;43mstr\u001B[39;49m\u001B[43m \u001B[49m\u001B[38;5;241;43m=\u001B[39;49m\u001B[43m \u001B[49m\u001B[43mField\u001B[49m\u001B[43m(\u001B[49m\u001B[38;5;241;43m.\u001B[39;49m\u001B[38;5;241;43m.\u001B[39;49m\u001B[38;5;241;43m.\u001B[39;49m\u001B[43m,\u001B[49m\u001B[43m \u001B[49m\u001B[43mdescription\u001B[49m\u001B[38;5;241;43m=\u001B[39;49m\u001B[38;5;124;43m\"\u001B[39;49m\u001B[38;5;124;43mName of the participant.\u001B[39;49m\u001B[38;5;124;43m\"\u001B[39;49m\u001B[43m)\u001B[49m\n\u001B[1;32m      4\u001B[0m \u001B[43m    \u001B[49m\u001B[43mrole\u001B[49m\u001B[43m:\u001B[49m\u001B[43m \u001B[49m\u001B[38;5;28;43mstr\u001B[39;49m\u001B[43m \u001B[49m\u001B[38;5;241;43m=\u001B[39;49m\u001B[43m \u001B[49m\u001B[43mField\u001B[49m\u001B[43m(\u001B[49m\u001B[38;5;241;43m.\u001B[39;49m\u001B[38;5;241;43m.\u001B[39;49m\u001B[38;5;241;43m.\u001B[39;49m\u001B[43m,\u001B[49m\u001B[43m \u001B[49m\u001B[43mdescription\u001B[49m\u001B[38;5;241;43m=\u001B[39;49m\u001B[38;5;124;43m\"\u001B[39;49m\u001B[38;5;124;43mRole of the participant.\u001B[39;49m\u001B[38;5;124;43m\"\u001B[39;49m\u001B[43m)\u001B[49m\n",
      "Cell \u001B[0;32mIn[6], line 4\u001B[0m, in \u001B[0;36mauto_router\u001B[0;34m(model_class)\u001B[0m\n\u001B[1;32m      2\u001B[0m router \u001B[38;5;241m=\u001B[39m APIRouter()\n\u001B[1;32m      3\u001B[0m model_name \u001B[38;5;241m=\u001B[39m model_class\u001B[38;5;241m.\u001B[39m\u001B[38;5;18m__name__\u001B[39m\u001B[38;5;241m.\u001B[39mlower()\n\u001B[0;32m----> 4\u001B[0m model_instance \u001B[38;5;241m=\u001B[39m \u001B[43mmodel_class\u001B[49m\u001B[43m(\u001B[49m\u001B[43m)\u001B[49m\n\u001B[1;32m      6\u001B[0m \u001B[38;5;129m@router\u001B[39m\u001B[38;5;241m.\u001B[39mpost(\u001B[38;5;124mf\u001B[39m\u001B[38;5;124m\"\u001B[39m\u001B[38;5;124m/\u001B[39m\u001B[38;5;132;01m{\u001B[39;00mmodel_name\u001B[38;5;132;01m}\u001B[39;00m\u001B[38;5;124m/\u001B[39m\u001B[38;5;124m\"\u001B[39m)\n\u001B[1;32m      7\u001B[0m \u001B[38;5;28;01masync\u001B[39;00m \u001B[38;5;28;01mdef\u001B[39;00m \u001B[38;5;21mcreate_model_instance\u001B[39m(data: Dict[\u001B[38;5;28mstr\u001B[39m, Any]):\n\u001B[1;32m      8\u001B[0m     init_lm()\n",
      "File \u001B[0;32m~/dev/dslmodel/src/dslmodel/models.py:19\u001B[0m, in \u001B[0;36mDSLModel.__init__\u001B[0;34m(self, **data)\u001B[0m\n\u001B[1;32m     16\u001B[0m \u001B[38;5;28;01mdef\u001B[39;00m \u001B[38;5;21m__init__\u001B[39m(\u001B[38;5;28mself\u001B[39m, \u001B[38;5;241m*\u001B[39m\u001B[38;5;241m*\u001B[39mdata):\n\u001B[1;32m     17\u001B[0m     \u001B[38;5;66;03m# Render any default template values using Jinja2 before instantiation\u001B[39;00m\n\u001B[1;32m     18\u001B[0m     data \u001B[38;5;241m=\u001B[39m \u001B[38;5;28mself\u001B[39m\u001B[38;5;241m.\u001B[39mrender_defaults(data)\n\u001B[0;32m---> 19\u001B[0m     \u001B[38;5;28;43msuper\u001B[39;49m\u001B[43m(\u001B[49m\u001B[43m)\u001B[49m\u001B[38;5;241;43m.\u001B[39;49m\u001B[38;5;21;43m__init__\u001B[39;49m\u001B[43m(\u001B[49m\u001B[38;5;241;43m*\u001B[39;49m\u001B[38;5;241;43m*\u001B[39;49m\u001B[43mdata\u001B[49m\u001B[43m)\u001B[49m\n",
      "File \u001B[0;32m~/Library/Caches/pypoetry/virtualenvs/stargen-pwn7Ka8j-py3.12/lib/python3.12/site-packages/pydantic/main.py:212\u001B[0m, in \u001B[0;36mBaseModel.__init__\u001B[0;34m(self, **data)\u001B[0m\n\u001B[1;32m    210\u001B[0m \u001B[38;5;66;03m# `__tracebackhide__` tells pytest and some other tools to omit this function from tracebacks\u001B[39;00m\n\u001B[1;32m    211\u001B[0m __tracebackhide__ \u001B[38;5;241m=\u001B[39m \u001B[38;5;28;01mTrue\u001B[39;00m\n\u001B[0;32m--> 212\u001B[0m validated_self \u001B[38;5;241m=\u001B[39m \u001B[38;5;28;43mself\u001B[39;49m\u001B[38;5;241;43m.\u001B[39;49m\u001B[43m__pydantic_validator__\u001B[49m\u001B[38;5;241;43m.\u001B[39;49m\u001B[43mvalidate_python\u001B[49m\u001B[43m(\u001B[49m\u001B[43mdata\u001B[49m\u001B[43m,\u001B[49m\u001B[43m \u001B[49m\u001B[43mself_instance\u001B[49m\u001B[38;5;241;43m=\u001B[39;49m\u001B[38;5;28;43mself\u001B[39;49m\u001B[43m)\u001B[49m\n\u001B[1;32m    213\u001B[0m \u001B[38;5;28;01mif\u001B[39;00m \u001B[38;5;28mself\u001B[39m \u001B[38;5;129;01mis\u001B[39;00m \u001B[38;5;129;01mnot\u001B[39;00m validated_self:\n\u001B[1;32m    214\u001B[0m     warnings\u001B[38;5;241m.\u001B[39mwarn(\n\u001B[1;32m    215\u001B[0m         \u001B[38;5;124m'\u001B[39m\u001B[38;5;124mA custom validator is returning a value other than `self`.\u001B[39m\u001B[38;5;130;01m\\n\u001B[39;00m\u001B[38;5;124m'\u001B[39m\n\u001B[1;32m    216\u001B[0m         \u001B[38;5;124m\"\u001B[39m\u001B[38;5;124mReturning anything other than `self` from a top level model validator isn\u001B[39m\u001B[38;5;124m'\u001B[39m\u001B[38;5;124mt supported when validating via `__init__`.\u001B[39m\u001B[38;5;130;01m\\n\u001B[39;00m\u001B[38;5;124m\"\u001B[39m\n\u001B[1;32m    217\u001B[0m         \u001B[38;5;124m'\u001B[39m\u001B[38;5;124mSee the `model_validator` docs (https://docs.pydantic.dev/latest/concepts/validators/#model-validators) for more details.\u001B[39m\u001B[38;5;124m'\u001B[39m,\n\u001B[1;32m    218\u001B[0m         category\u001B[38;5;241m=\u001B[39m\u001B[38;5;28;01mNone\u001B[39;00m,\n\u001B[1;32m    219\u001B[0m     )\n",
      "\u001B[0;31mValidationError\u001B[0m: 2 validation errors for Participant\nname\n  Field required [type=missing, input_value={}, input_type=dict]\n    For further information visit https://errors.pydantic.dev/2.9/v/missing\nrole\n  Field required [type=missing, input_value={}, input_type=dict]\n    For further information visit https://errors.pydantic.dev/2.9/v/missing"
     ]
    }
   ],
   "execution_count": 8
  },
  {
   "metadata": {},
   "cell_type": "code",
   "outputs": [],
   "execution_count": null,
   "source": "",
   "id": "88f1c39ef304123f"
  }
 ],
 "metadata": {
  "kernelspec": {
   "display_name": "Python 3",
   "language": "python",
   "name": "python3"
  },
  "language_info": {
   "codemirror_mode": {
    "name": "ipython",
    "version": 2
   },
   "file_extension": ".py",
   "mimetype": "text/x-python",
   "name": "python",
   "nbconvert_exporter": "python",
   "pygments_lexer": "ipython2",
   "version": "2.7.6"
  }
 },
 "nbformat": 4,
 "nbformat_minor": 5
}
